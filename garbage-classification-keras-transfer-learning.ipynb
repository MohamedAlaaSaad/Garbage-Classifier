{
 "cells": [
  {
   "cell_type": "markdown",
   "metadata": {
    "_cell_guid": "b1076dfc-b9ad-4769-8c92-a6c4dae69d19",
    "_uuid": "8f2839f25d086af736a60e9eeb907d3b93b6e0e5",
    "papermill": {
     "duration": 0.025054,
     "end_time": "2021-02-11T20:31:04.915467",
     "exception": false,
     "start_time": "2021-02-11T20:31:04.890413",
     "status": "completed"
    },
    "tags": []
   },
   "source": [
    "# Garbage Classification using keras and transfer learning"
   ]
  },
  {
   "cell_type": "markdown",
   "metadata": {
    "papermill": {
     "duration": 0.022726,
     "end_time": "2021-02-11T20:31:05.010149",
     "exception": false,
     "start_time": "2021-02-11T20:31:04.987423",
     "status": "completed"
    },
    "tags": []
   },
   "source": [
    "# Import Required Libraries"
   ]
  },
  {
   "cell_type": "code",
   "execution_count": 1,
   "metadata": {
    "execution": {
     "iopub.execute_input": "2021-02-11T20:31:05.069000Z",
     "iopub.status.busy": "2021-02-11T20:31:05.068147Z",
     "iopub.status.idle": "2021-02-11T20:31:11.144375Z",
     "shell.execute_reply": "2021-02-11T20:31:11.145113Z"
    },
    "papermill": {
     "duration": 6.111744,
     "end_time": "2021-02-11T20:31:11.145317",
     "exception": false,
     "start_time": "2021-02-11T20:31:05.033573",
     "status": "completed"
    },
    "tags": []
   },
   "outputs": [],
   "source": [
    "import numpy as np\n",
    "import pandas as pd \n",
    "import random\n",
    "import os\n",
    "import matplotlib.pyplot as plt\n",
    "import seaborn as sns\n",
    "import keras.applications.xception as xception\n",
    "import zipfile\n",
    "import sys\n",
    "import time\n",
    "import tensorflow.keras as keras\n",
    "import tensorflow as tf\n",
    "import re\n",
    "\n",
    "from PIL import Image\n",
    "from keras.layers import Input, Conv2D, Dense, Flatten, MaxPooling2D, Input, GlobalAveragePooling2D\n",
    "from tensorflow.keras.layers.experimental.preprocessing import Normalization\n",
    "from keras.models import Model, Sequential\n",
    "from keras.preprocessing import image\n",
    "from tensorflow.keras.utils import to_categorical\n",
    "from keras.layers import Lambda\n",
    "from keras.callbacks import EarlyStopping\n",
    "from sklearn.model_selection import train_test_split\n",
    "from sklearn.metrics import classification_report"
   ]
  },
  {
   "cell_type": "code",
   "execution_count": 2,
   "metadata": {},
   "outputs": [],
   "source": [
    "gpus = tf.config.list_physical_devices('GPU')\n",
    "if gpus:\n",
    "  # Restrict TensorFlow to only allocate 1GB of memory on the first GPU\n",
    "  try:\n",
    "    tf.config.set_logical_device_configuration(\n",
    "        gpus[0],\n",
    "        [tf.config.LogicalDeviceConfiguration(memory_limit=7144)])\n",
    "    logical_gpus = tf.config.list_logical_devices('GPU')\n",
    "    print(len(gpus), \"Physical GPUs,\", len(logical_gpus), \"Logical GPUs\")\n",
    "  except RuntimeError as e:\n",
    "    # Virtual devices must be set before GPUs have been initialized\n",
    "    print(e)"
   ]
  },
  {
   "cell_type": "markdown",
   "metadata": {
    "papermill": {
     "duration": 0.024309,
     "end_time": "2021-02-11T20:31:11.195109",
     "exception": false,
     "start_time": "2021-02-11T20:31:11.170800",
     "status": "completed"
    },
    "tags": []
   },
   "source": [
    "# Define Constants"
   ]
  },
  {
   "cell_type": "code",
   "execution_count": 3,
   "metadata": {
    "execution": {
     "iopub.execute_input": "2021-02-11T20:31:11.251089Z",
     "iopub.status.busy": "2021-02-11T20:31:11.250180Z",
     "iopub.status.idle": "2021-02-11T20:31:11.253976Z",
     "shell.execute_reply": "2021-02-11T20:31:11.254625Z"
    },
    "papermill": {
     "duration": 0.035925,
     "end_time": "2021-02-11T20:31:11.254781",
     "exception": false,
     "start_time": "2021-02-11T20:31:11.218856",
     "status": "completed"
    },
    "tags": []
   },
   "outputs": [
    {
     "name": "stdout",
     "output_type": "stream",
     "text": [
      "defining constants successful!\n"
     ]
    }
   ],
   "source": [
    "IMAGE_WIDTH = 320    \n",
    "IMAGE_HEIGHT = 320\n",
    "IMAGE_SIZE=(IMAGE_WIDTH, IMAGE_HEIGHT)\n",
    "IMAGE_CHANNELS = 3\n",
    "\n",
    "\n",
    "base_path = \"garbage_classification/\"\n",
    "\n",
    "categories = {0: 'paper', 1: 'cardboard', 2: 'plastic', 3: 'metal', 4: 'trash', 5: 'battery',\n",
    "              6: 'shoes', 7: 'clothes', 8: 'green-glass', 9: 'brown-glass', 10: 'white-glass',\n",
    "              11: 'biological'}\n",
    "\n",
    "print('defining constants successful!')"
   ]
  },
  {
   "cell_type": "markdown",
   "metadata": {
    "papermill": {
     "duration": 0.023065,
     "end_time": "2021-02-11T20:31:11.302078",
     "exception": false,
     "start_time": "2021-02-11T20:31:11.279013",
     "status": "completed"
    },
    "tags": []
   },
   "source": [
    "# Create DataFrame"
   ]
  },
  {
   "cell_type": "code",
   "execution_count": 4,
   "metadata": {
    "execution": {
     "iopub.execute_input": "2021-02-11T20:31:11.408728Z",
     "iopub.status.busy": "2021-02-11T20:31:11.408070Z",
     "iopub.status.idle": "2021-02-11T20:31:15.523520Z",
     "shell.execute_reply": "2021-02-11T20:31:15.524276Z"
    },
    "papermill": {
     "duration": 4.150669,
     "end_time": "2021-02-11T20:31:15.524465",
     "exception": false,
     "start_time": "2021-02-11T20:31:11.373796",
     "status": "completed"
    },
    "tags": []
   },
   "outputs": [
    {
     "name": "stdout",
     "output_type": "stream",
     "text": [
      "number of elements =  15515\n"
     ]
    }
   ],
   "source": [
    "def add_class_name_prefix(df, col_name):\n",
    "    df[col_name] = df[col_name].apply(lambda x: x[:re.search(\"\\d\",x).start()] + '/' + x)\n",
    "    return df\n",
    "\n",
    "filenames_list = []\n",
    "categories_list = []\n",
    "\n",
    "for category in categories:\n",
    "    filenames = os.listdir(base_path + categories[category])\n",
    "    \n",
    "    filenames_list = filenames_list  +filenames\n",
    "    categories_list = categories_list + [category] * len(filenames)\n",
    "    \n",
    "df = pd.DataFrame({\n",
    "    'filename': filenames_list,\n",
    "    'category': categories_list\n",
    "})\n",
    "\n",
    "df = add_class_name_prefix(df, 'filename')\n",
    "\n",
    "df = df.sample(frac=1).reset_index(drop=True)\n",
    "\n",
    "print('number of elements = ' , len(df))"
   ]
  },
  {
   "cell_type": "code",
   "execution_count": 5,
   "metadata": {
    "execution": {
     "iopub.execute_input": "2021-02-11T20:31:15.587866Z",
     "iopub.status.busy": "2021-02-11T20:31:15.587015Z",
     "iopub.status.idle": "2021-02-11T20:31:15.595997Z",
     "shell.execute_reply": "2021-02-11T20:31:15.595466Z"
    },
    "papermill": {
     "duration": 0.045722,
     "end_time": "2021-02-11T20:31:15.596102",
     "exception": false,
     "start_time": "2021-02-11T20:31:15.550380",
     "status": "completed"
    },
    "tags": []
   },
   "outputs": [
    {
     "data": {
      "text/html": [
       "<div>\n",
       "<style scoped>\n",
       "    .dataframe tbody tr th:only-of-type {\n",
       "        vertical-align: middle;\n",
       "    }\n",
       "\n",
       "    .dataframe tbody tr th {\n",
       "        vertical-align: top;\n",
       "    }\n",
       "\n",
       "    .dataframe thead th {\n",
       "        text-align: right;\n",
       "    }\n",
       "</style>\n",
       "<table border=\"1\" class=\"dataframe\">\n",
       "  <thead>\n",
       "    <tr style=\"text-align: right;\">\n",
       "      <th></th>\n",
       "      <th>filename</th>\n",
       "      <th>category</th>\n",
       "    </tr>\n",
       "  </thead>\n",
       "  <tbody>\n",
       "    <tr>\n",
       "      <th>0</th>\n",
       "      <td>paper/paper744.jpg</td>\n",
       "      <td>0</td>\n",
       "    </tr>\n",
       "    <tr>\n",
       "      <th>1</th>\n",
       "      <td>paper/paper846.jpg</td>\n",
       "      <td>0</td>\n",
       "    </tr>\n",
       "    <tr>\n",
       "      <th>2</th>\n",
       "      <td>clothes/clothes3727.jpg</td>\n",
       "      <td>7</td>\n",
       "    </tr>\n",
       "    <tr>\n",
       "      <th>3</th>\n",
       "      <td>clothes/clothes714.jpg</td>\n",
       "      <td>7</td>\n",
       "    </tr>\n",
       "    <tr>\n",
       "      <th>4</th>\n",
       "      <td>battery/battery613.jpg</td>\n",
       "      <td>5</td>\n",
       "    </tr>\n",
       "  </tbody>\n",
       "</table>\n",
       "</div>"
      ],
      "text/plain": [
       "                  filename  category\n",
       "0       paper/paper744.jpg         0\n",
       "1       paper/paper846.jpg         0\n",
       "2  clothes/clothes3727.jpg         7\n",
       "3   clothes/clothes714.jpg         7\n",
       "4   battery/battery613.jpg         5"
      ]
     },
     "execution_count": 5,
     "metadata": {},
     "output_type": "execute_result"
    }
   ],
   "source": [
    "df.head()"
   ]
  },
  {
   "cell_type": "code",
   "execution_count": 6,
   "metadata": {
    "execution": {
     "iopub.execute_input": "2021-02-11T20:31:15.653252Z",
     "iopub.status.busy": "2021-02-11T20:31:15.652557Z",
     "iopub.status.idle": "2021-02-11T20:31:15.969722Z",
     "shell.execute_reply": "2021-02-11T20:31:15.970268Z"
    },
    "papermill": {
     "duration": 0.349301,
     "end_time": "2021-02-11T20:31:15.970432",
     "exception": false,
     "start_time": "2021-02-11T20:31:15.621131",
     "status": "completed"
    },
    "tags": []
   },
   "outputs": [
    {
     "name": "stdout",
     "output_type": "stream",
     "text": [
      "plastic/plastic683.jpg\n"
     ]
    },
    {
     "data": {
      "text/plain": [
       "<matplotlib.image.AxesImage at 0x1af3cc24b80>"
      ]
     },
     "execution_count": 6,
     "metadata": {},
     "output_type": "execute_result"
    },
    {
     "data": {
      "image/png": "[encoded data removed]",
      "text/plain": [
       "<Figure size 432x288 with 1 Axes>"
      ]
     },
     "metadata": {
      "needs_background": "light"
     },
     "output_type": "display_data"
    }
   ],
   "source": [
    "\n",
    "random_row = random.randint(0, len(df)-1)\n",
    "sample = df.iloc[random_row]\n",
    "randomimage = image.load_img(base_path +sample['filename'])\n",
    "print(sample['filename'])\n",
    "plt.imshow(randomimage)"
   ]
  },
  {
   "cell_type": "markdown",
   "metadata": {
    "papermill": {
     "duration": 0.029738,
     "end_time": "2021-02-11T20:31:16.030617",
     "exception": false,
     "start_time": "2021-02-11T20:31:16.000879",
     "status": "completed"
    },
    "tags": []
   },
   "source": [
    "# Viusalize the Categories Distribution"
   ]
  },
  {
   "cell_type": "code",
   "execution_count": 7,
   "metadata": {
    "execution": {
     "iopub.execute_input": "2021-02-11T20:31:16.110777Z",
     "iopub.status.busy": "2021-02-11T20:31:16.109933Z",
     "iopub.status.idle": "2021-02-11T20:31:16.311827Z",
     "shell.execute_reply": "2021-02-11T20:31:16.312375Z"
    },
    "papermill": {
     "duration": 0.251652,
     "end_time": "2021-02-11T20:31:16.312553",
     "exception": false,
     "start_time": "2021-02-11T20:31:16.060901",
     "status": "completed"
    },
    "tags": []
   },
   "outputs": [
    {
     "data": {
      "image/png": "[encoded data removed]",
      "text/plain": [
       "<Figure size 432x288 with 1 Axes>"
      ]
     },
     "metadata": {
      "needs_background": "light"
     },
     "output_type": "display_data"
    }
   ],
   "source": [
    "df_visualization = df.copy()\n",
    "df_visualization['category'] = df_visualization['category'].apply(lambda x:categories[x] )\n",
    "\n",
    "df_visualization['category'].value_counts().plot.bar(x = 'count', y = 'category' )\n",
    "\n",
    "plt.xlabel(\"Garbage Classes\", labelpad=14)\n",
    "plt.ylabel(\"Images Count\", labelpad=14)\n",
    "plt.title(\"Count of images per class\", y=1.02);"
   ]
  },
  {
   "cell_type": "markdown",
   "metadata": {
    "papermill": {
     "duration": 0.033412,
     "end_time": "2021-02-11T20:31:16.379075",
     "exception": false,
     "start_time": "2021-02-11T20:31:16.345663",
     "status": "completed"
    },
    "tags": []
   },
   "source": [
    "# Create the model"
   ]
  },
  {
   "cell_type": "code",
   "execution_count": 8,
   "metadata": {
    "execution": {
     "iopub.execute_input": "2021-02-11T20:31:16.516166Z",
     "iopub.status.busy": "2021-02-11T20:31:16.515354Z",
     "iopub.status.idle": "2021-02-11T20:31:23.983771Z",
     "shell.execute_reply": "2021-02-11T20:31:23.983134Z"
    },
    "papermill": {
     "duration": 7.509921,
     "end_time": "2021-02-11T20:31:23.983900",
     "exception": false,
     "start_time": "2021-02-11T20:31:16.473979",
     "status": "completed"
    },
    "tags": []
   },
   "outputs": [
    {
     "name": "stdout",
     "output_type": "stream",
     "text": [
      "Model: \"sequential\"\n",
      "_________________________________________________________________\n",
      " Layer (type)                Output Shape              Param #   \n",
      "=================================================================\n",
      " lambda (Lambda)             (None, 320, 320, 3)       0         \n",
      "                                                                 \n",
      " xception (Functional)       (None, 10, 10, 2048)      20861480  \n",
      "                                                                 \n",
      " global_average_pooling2d (G  (None, 2048)             0         \n",
      " lobalAveragePooling2D)                                          \n",
      "                                                                 \n",
      " dense (Dense)               (None, 12)                24588     \n",
      "                                                                 \n",
      "=================================================================\n",
      "Total params: 20,886,068\n",
      "Trainable params: 24,588\n",
      "Non-trainable params: 20,861,480\n",
      "_________________________________________________________________\n"
     ]
    }
   ],
   "source": [
    "from keras.models import Sequential\n",
    "from keras.layers import Conv2D, MaxPooling2D, Dropout, Flatten, Dense, Activation, BatchNormalization\n",
    "import keras.applications.xception as xception\n",
    "\n",
    "xception_layer = xception.Xception(include_top = False, input_shape = (IMAGE_WIDTH, IMAGE_HEIGHT,IMAGE_CHANNELS),\n",
    "                       weights = 'xception/xception_weights_tf_dim_ordering_tf_kernels_notop.h5')\n",
    "\n",
    "xception_layer.trainable = False\n",
    "\n",
    "\n",
    "model = Sequential()\n",
    "model.add(keras.Input(shape=(IMAGE_WIDTH, IMAGE_HEIGHT, IMAGE_CHANNELS)))\n",
    "\n",
    "def xception_preprocessing(img):\n",
    "  return xception.preprocess_input(img)\n",
    "\n",
    "model.add(Lambda(xception_preprocessing))\n",
    "\n",
    "model.add(xception_layer)\n",
    "model.add(tf.keras.layers.GlobalAveragePooling2D())\n",
    "model.add(Dense(len(categories), activation='softmax')) \n",
    "\n",
    "model.compile(loss='categorical_crossentropy', optimizer='adam', metrics=['categorical_accuracy'])\n",
    "\n",
    "model.summary()"
   ]
  },
  {
   "cell_type": "markdown",
   "metadata": {
    "papermill": {
     "duration": 0.033601,
     "end_time": "2021-02-11T20:31:24.051182",
     "exception": false,
     "start_time": "2021-02-11T20:31:24.017581",
     "status": "completed"
    },
    "tags": []
   },
   "source": [
    "We will use the EarlyStopping call back to stop our training if the validation_accuray is not improving for a certain number of epochs."
   ]
  },
  {
   "cell_type": "code",
   "execution_count": 9,
   "metadata": {
    "execution": {
     "iopub.execute_input": "2021-02-11T20:31:24.163989Z",
     "iopub.status.busy": "2021-02-11T20:31:24.163161Z",
     "iopub.status.idle": "2021-02-11T20:31:24.168163Z",
     "shell.execute_reply": "2021-02-11T20:31:24.169006Z"
    },
    "papermill": {
     "duration": 0.045082,
     "end_time": "2021-02-11T20:31:24.169191",
     "exception": false,
     "start_time": "2021-02-11T20:31:24.124109",
     "status": "completed"
    },
    "tags": []
   },
   "outputs": [
    {
     "name": "stdout",
     "output_type": "stream",
     "text": [
      "call back defined!\n"
     ]
    }
   ],
   "source": [
    "early_stop = EarlyStopping(patience = 2, verbose = 1, monitor='val_categorical_accuracy' , mode='max', min_delta=0.001, restore_best_weights = True)\n",
    "\n",
    "callbacks = [early_stop]\n",
    "\n",
    "print('call back defined!')"
   ]
  },
  {
   "cell_type": "markdown",
   "metadata": {
    "papermill": {
     "duration": 0.033573,
     "end_time": "2021-02-11T20:31:24.237523",
     "exception": false,
     "start_time": "2021-02-11T20:31:24.203950",
     "status": "completed"
    },
    "tags": []
   },
   "source": [
    "# Split the Data Set"
   ]
  },
  {
   "cell_type": "code",
   "execution_count": 10,
   "metadata": {
    "execution": {
     "iopub.execute_input": "2021-02-11T20:31:24.383122Z",
     "iopub.status.busy": "2021-02-11T20:31:24.381978Z",
     "iopub.status.idle": "2021-02-11T20:31:24.399106Z",
     "shell.execute_reply": "2021-02-11T20:31:24.399844Z"
    },
    "papermill": {
     "duration": 0.061194,
     "end_time": "2021-02-11T20:31:24.400027",
     "exception": false,
     "start_time": "2021-02-11T20:31:24.338833",
     "status": "completed"
    },
    "tags": []
   },
   "outputs": [
    {
     "name": "stdout",
     "output_type": "stream",
     "text": [
      "train size =  1551 validate size =  1551 test size =  1552\n"
     ]
    }
   ],
   "source": [
    "#Change the categories from numbers to names\n",
    "df[\"category\"] = df[\"category\"].replace(categories) \n",
    "\n",
    "# We first split the data into two sets and then split the validate_df to two sets\n",
    "train_df, validate_df = train_test_split(df, test_size=0.2, random_state=42)\n",
    "validate_df, test_df = train_test_split(validate_df, test_size=0.5, random_state=42)\n",
    "\n",
    "train_df = train_df.reset_index(drop=True)\n",
    "validate_df = validate_df.reset_index(drop=True)\n",
    "test_df = test_df.reset_index(drop=True)\n",
    "\n",
    "total_train = train_df.shape[0]\n",
    "total_validate = validate_df.shape[0]\n",
    "\n",
    "print('train size = ', total_validate , 'validate size = ', total_validate, 'test size = ', test_df.shape[0])"
   ]
  },
  {
   "cell_type": "markdown",
   "metadata": {
    "papermill": {
     "duration": 0.035464,
     "end_time": "2021-02-11T20:31:24.472100",
     "exception": false,
     "start_time": "2021-02-11T20:31:24.436636",
     "status": "completed"
    },
    "tags": []
   },
   "source": [
    "# Train the model"
   ]
  },
  {
   "cell_type": "code",
   "execution_count": 11,
   "metadata": {
    "execution": {
     "iopub.execute_input": "2021-02-11T20:31:24.643893Z",
     "iopub.status.busy": "2021-02-11T20:31:24.638718Z",
     "iopub.status.idle": "2021-02-11T20:31:39.247409Z",
     "shell.execute_reply": "2021-02-11T20:31:39.248258Z"
    },
    "papermill": {
     "duration": 14.675024,
     "end_time": "2021-02-11T20:31:39.248403",
     "exception": false,
     "start_time": "2021-02-11T20:31:24.573379",
     "status": "completed"
    },
    "tags": []
   },
   "outputs": [
    {
     "name": "stdout",
     "output_type": "stream",
     "text": [
      "Found 12412 validated image filenames belonging to 12 classes.\n"
     ]
    }
   ],
   "source": [
    "batch_size=64\n",
    "\n",
    "train_datagen = image.ImageDataGenerator(\n",
    "    \n",
    "    ###  Augmentation Start  ###\n",
    "    \n",
    "    #rotation_range=30,\n",
    "    #shear_range=0.1,\n",
    "    #zoom_range=0.3,\n",
    "    #horizontal_flip=True,\n",
    "    #vertical_flip = True,\n",
    "    #width_shift_range=0.2,\n",
    "    #height_shift_range=0.2\n",
    "    \n",
    "    ##  Augmentation End  ###\n",
    ")\n",
    "\n",
    "train_generator = train_datagen.flow_from_dataframe(\n",
    "    train_df, \n",
    "    base_path, \n",
    "    x_col='filename',\n",
    "    y_col='category',\n",
    "    target_size=IMAGE_SIZE,\n",
    "    class_mode='categorical',\n",
    "    batch_size=batch_size\n",
    ")"
   ]
  },
  {
   "cell_type": "code",
   "execution_count": 12,
   "metadata": {
    "execution": {
     "iopub.execute_input": "2021-02-11T20:31:39.326111Z",
     "iopub.status.busy": "2021-02-11T20:31:39.325320Z",
     "iopub.status.idle": "2021-02-11T20:31:40.978711Z",
     "shell.execute_reply": "2021-02-11T20:31:40.979236Z"
    },
    "papermill": {
     "duration": 1.69855,
     "end_time": "2021-02-11T20:31:40.979394",
     "exception": false,
     "start_time": "2021-02-11T20:31:39.280844",
     "status": "completed"
    },
    "tags": []
   },
   "outputs": [
    {
     "name": "stdout",
     "output_type": "stream",
     "text": [
      "Found 1551 validated image filenames belonging to 12 classes.\n"
     ]
    }
   ],
   "source": [
    "validation_datagen = image.ImageDataGenerator()\n",
    "\n",
    "validation_generator = validation_datagen.flow_from_dataframe(\n",
    "    validate_df, \n",
    "    base_path, \n",
    "    x_col='filename',\n",
    "    y_col='category',\n",
    "    target_size=IMAGE_SIZE,\n",
    "    class_mode='categorical',\n",
    "    batch_size=batch_size\n",
    ")"
   ]
  },
  {
   "cell_type": "code",
   "execution_count": null,
   "metadata": {
    "execution": {
     "iopub.execute_input": "2021-02-11T20:31:41.056281Z",
     "iopub.status.busy": "2021-02-11T20:31:41.055573Z",
     "iopub.status.idle": "2021-02-11T20:43:31.253030Z",
     "shell.execute_reply": "2021-02-11T20:43:31.252167Z"
    },
    "papermill": {
     "duration": 710.238601,
     "end_time": "2021-02-11T20:43:31.253188",
     "exception": false,
     "start_time": "2021-02-11T20:31:41.014587",
     "status": "completed"
    },
    "tags": []
   },
   "outputs": [
    {
     "name": "stdout",
     "output_type": "stream",
     "text": [
      "Epoch 1/20\n"
     ]
    },
    {
     "name": "stderr",
     "output_type": "stream",
     "text": [
      "C:\\Users\\moham\\AppData\\Local\\Temp/ipykernel_7372/2716048666.py:2: UserWarning: `Model.fit_generator` is deprecated and will be removed in a future version. Please use `Model.fit`, which supports generators.\n",
      "  history = model.fit_generator(\n"
     ]
    },
    {
     "name": "stdout",
     "output_type": "stream",
     "text": [
      "193/193 [==============================] - 1453s 8s/step - loss: 0.6138 - categorical_accuracy: 0.8395 - val_loss: 0.2907 - val_categorical_accuracy: 0.9251\n",
      "Epoch 2/20\n",
      "193/193 [==============================] - 1484s 8s/step - loss: 0.2399 - categorical_accuracy: 0.9365 - val_loss: 0.2230 - val_categorical_accuracy: 0.9427\n",
      "Epoch 3/20\n",
      "193/193 [==============================] - ETA: 0s - loss: 0.1836 - categorical_accuracy: 0.9491"
     ]
    }
   ],
   "source": [
    "EPOCHS = 20\n",
    "history = model.fit_generator(\n",
    "    train_generator, \n",
    "    epochs=EPOCHS,\n",
    "    validation_data=validation_generator,\n",
    "    validation_steps=total_validate//batch_size,\n",
    "    steps_per_epoch=total_train//batch_size,\n",
    "    callbacks=callbacks\n",
    ")"
   ]
  },
  {
   "cell_type": "code",
   "execution_count": 13,
   "metadata": {
    "execution": {
     "iopub.execute_input": "2021-02-11T20:43:32.250241Z",
     "iopub.status.busy": "2021-02-11T20:43:32.249292Z",
     "iopub.status.idle": "2021-02-11T20:43:32.510318Z",
     "shell.execute_reply": "2021-02-11T20:43:32.509777Z"
    },
    "papermill": {
     "duration": 0.761276,
     "end_time": "2021-02-11T20:43:32.510438",
     "exception": false,
     "start_time": "2021-02-11T20:43:31.749162",
     "status": "completed"
    },
    "tags": []
   },
   "outputs": [],
   "source": [
    "model.save_weights(\"model.h5\")"
   ]
  },
  {
   "cell_type": "markdown",
   "metadata": {
    "papermill": {
     "duration": 0.499679,
     "end_time": "2021-02-11T20:43:33.507688",
     "exception": false,
     "start_time": "2021-02-11T20:43:33.008009",
     "status": "completed"
    },
    "tags": []
   },
   "source": [
    "# Visualize the training process\n"
   ]
  },
  {
   "cell_type": "code",
   "execution_count": 14,
   "metadata": {
    "execution": {
     "iopub.execute_input": "2021-02-11T20:43:34.544981Z",
     "iopub.status.busy": "2021-02-11T20:43:34.544030Z",
     "iopub.status.idle": "2021-02-11T20:43:34.874208Z",
     "shell.execute_reply": "2021-02-11T20:43:34.874747Z"
    },
    "papermill": {
     "duration": 0.835036,
     "end_time": "2021-02-11T20:43:34.874921",
     "exception": false,
     "start_time": "2021-02-11T20:43:34.039885",
     "status": "completed"
    },
    "tags": []
   },
   "outputs": [
    {
     "data": {
      "image/png": "[encoded data removed]",
      "text/plain": [
       "<Figure size 432x288 with 2 Axes>"
      ]
     },
     "metadata": {
      "needs_background": "light"
     },
     "output_type": "display_data"
    }
   ],
   "source": [
    "fig, (ax1, ax2) = plt.subplots(2, 1)\n",
    "ax1.plot(history.history['loss'], color='b', label=\"Training loss\")\n",
    "ax1.plot(history.history['val_loss'], color='r', label=\"validation loss\")\n",
    "ax1.set_yticks(np.arange(0, 0.7, 0.1))\n",
    "ax1.legend()\n",
    "\n",
    "ax2.plot(history.history['categorical_accuracy'], color='b', label=\"Training accuracy\")\n",
    "ax2.plot(history.history['val_categorical_accuracy'], color='r',label=\"Validation accuracy\")\n",
    "ax2.legend()\n",
    "\n",
    "legend = plt.legend(loc='best')\n",
    "plt.tight_layout()\n",
    "plt.show()"
   ]
  },
  {
   "cell_type": "markdown",
   "metadata": {
    "papermill": {
     "duration": 0.496799,
     "end_time": "2021-02-11T20:43:35.872581",
     "exception": false,
     "start_time": "2021-02-11T20:43:35.375782",
     "status": "completed"
    },
    "tags": []
   },
   "source": [
    "# Evaluate the test"
   ]
  },
  {
   "cell_type": "code",
   "execution_count": 15,
   "metadata": {
    "execution": {
     "iopub.execute_input": "2021-02-11T20:43:37.947298Z",
     "iopub.status.busy": "2021-02-11T20:43:37.942897Z",
     "iopub.status.idle": "2021-02-11T20:43:40.190982Z",
     "shell.execute_reply": "2021-02-11T20:43:40.191643Z"
    },
    "papermill": {
     "duration": 2.830765,
     "end_time": "2021-02-11T20:43:40.191839",
     "exception": false,
     "start_time": "2021-02-11T20:43:37.361074",
     "status": "completed"
    },
    "tags": []
   },
   "outputs": [
    {
     "name": "stdout",
     "output_type": "stream",
     "text": [
      "Found 1552 validated image filenames belonging to 12 classes.\n"
     ]
    }
   ],
   "source": [
    "test_datagen = image.ImageDataGenerator()\n",
    "\n",
    "test_generator = test_datagen.flow_from_dataframe(\n",
    "    dataframe= test_df,\n",
    "    directory=base_path,\n",
    "    x_col='filename',\n",
    "    y_col='category',\n",
    "    target_size=IMAGE_SIZE,\n",
    "    color_mode=\"rgb\",\n",
    "    class_mode=\"categorical\",\n",
    "    batch_size=1,\n",
    "    shuffle=False \n",
    ")"
   ]
  },
  {
   "cell_type": "code",
   "execution_count": 16,
   "metadata": {
    "execution": {
     "iopub.execute_input": "2021-02-11T20:43:41.446337Z",
     "iopub.status.busy": "2021-02-11T20:43:41.445068Z",
     "iopub.status.idle": "2021-02-11T20:44:02.018285Z",
     "shell.execute_reply": "2021-02-11T20:44:02.018914Z"
    },
    "papermill": {
     "duration": 21.107171,
     "end_time": "2021-02-11T20:44:02.019100",
     "exception": false,
     "start_time": "2021-02-11T20:43:40.911929",
     "status": "completed"
    },
    "tags": []
   },
   "outputs": [
    {
     "name": "stdout",
     "output_type": "stream",
     "text": [
      "accuracy on test set =  94.91 % \n"
     ]
    }
   ],
   "source": [
    "filenames = test_generator.filenames\n",
    "nb_samples = len(filenames)\n",
    "\n",
    "_, accuracy = model.evaluate_generator(test_generator, nb_samples)\n",
    "\n",
    "print('accuracy on test set = ',  round((accuracy * 100),2 ), '% ') "
   ]
  },
  {
   "cell_type": "code",
   "execution_count": 17,
   "metadata": {
    "execution": {
     "iopub.execute_input": "2021-02-11T20:44:04.230003Z",
     "iopub.status.busy": "2021-02-11T20:44:04.229259Z",
     "iopub.status.idle": "2021-02-11T20:44:04.234331Z",
     "shell.execute_reply": "2021-02-11T20:44:04.233841Z"
    },
    "papermill": {
     "duration": 0.58757,
     "end_time": "2021-02-11T20:44:04.234461",
     "exception": false,
     "start_time": "2021-02-11T20:44:03.646891",
     "status": "completed"
    },
    "tags": []
   },
   "outputs": [
    {
     "name": "stdout",
     "output_type": "stream",
     "text": [
      "{0: 'battery', 1: 'biological', 2: 'brown-glass', 3: 'cardboard', 4: 'clothes', 5: 'green-glass', 6: 'metal', 7: 'paper', 8: 'plastic', 9: 'shoes', 10: 'trash', 11: 'white-glass'}\n"
     ]
    }
   ],
   "source": [
    "gen_label_map = test_generator.class_indices\n",
    "gen_label_map = dict((v,k) for k,v in gen_label_map.items())\n",
    "print(gen_label_map)"
   ]
  },
  {
   "cell_type": "code",
   "execution_count": 18,
   "metadata": {
    "execution": {
     "iopub.execute_input": "2021-02-11T20:44:05.255019Z",
     "iopub.status.busy": "2021-02-11T20:44:05.254234Z",
     "iopub.status.idle": "2021-02-11T20:44:20.158564Z",
     "shell.execute_reply": "2021-02-11T20:44:20.159227Z"
    },
    "papermill": {
     "duration": 15.403567,
     "end_time": "2021-02-11T20:44:20.159410",
     "exception": false,
     "start_time": "2021-02-11T20:44:04.755843",
     "status": "completed"
    },
    "tags": []
   },
   "outputs": [
    {
     "name": "stdout",
     "output_type": "stream",
     "text": [
      "              precision    recall  f1-score   support\n",
      "\n",
      "     battery       0.93      0.97      0.95       102\n",
      "  biological       1.00      1.00      1.00       102\n",
      " brown-glass       0.88      0.86      0.87        49\n",
      "   cardboard       0.96      0.94      0.95        93\n",
      "     clothes       0.98      0.99      0.99       533\n",
      " green-glass       0.84      0.82      0.83        62\n",
      "       metal       0.88      0.87      0.87        83\n",
      "       paper       0.95      0.94      0.95       107\n",
      "     plastic       0.84      0.84      0.84        87\n",
      "       shoes       0.99      0.98      0.99       212\n",
      "       trash       0.96      0.96      0.96        57\n",
      " white-glass       0.87      0.82      0.84        65\n",
      "\n",
      "    accuracy                           0.95      1552\n",
      "   macro avg       0.92      0.92      0.92      1552\n",
      "weighted avg       0.95      0.95      0.95      1552\n",
      "\n"
     ]
    }
   ],
   "source": [
    "preds = model.predict_generator(test_generator, nb_samples)\n",
    "\n",
    "preds = preds.argmax(1)\n",
    "\n",
    "preds = [gen_label_map[item] for item in preds]\n",
    "\n",
    "labels = test_df['category'].to_numpy()\n",
    "\n",
    "print(classification_report(labels, preds))"
   ]
  }
 ],
 "metadata": {
  "kernelspec": {
   "display_name": "Python 3 (ipykernel)",
   "language": "python",
   "name": "python3"
  },
  "language_info": {
   "codemirror_mode": {
    "name": "ipython",
    "version": 3
   },
   "file_extension": ".py",
   "mimetype": "text/x-python",
   "name": "python",
   "nbconvert_exporter": "python",
   "pygments_lexer": "ipython3",
   "version": "3.9.7"
  },
  "papermill": {
   "duration": 805.18131,
   "end_time": "2021-02-11T20:44:25.762612",
   "environment_variables": {},
   "exception": null,
   "input_path": "__notebook__.ipynb",
   "output_path": "__notebook__.ipynb",
   "parameters": {},
   "start_time": "2021-02-11T20:31:00.581302",
   "version": "2.1.0"
  }
 },
 "nbformat": 4,
 "nbformat_minor": 4
}
